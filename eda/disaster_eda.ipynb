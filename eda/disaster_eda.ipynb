{
 "cells": [
  {
   "cell_type": "code",
   "execution_count": 1,
   "metadata": {},
   "outputs": [
    {
     "name": "stdout",
     "output_type": "stream",
     "text": [
      "         CPI  ISO  Seq  Year Appeal         Dis No  Origin  \\\n",
      "0  32.233893  IRN  108  1980    NaN  1980-0108-IRN     NaN   \n",
      "1  32.233893  IRN  109  1980    NaN  1980-0109-IRN     NaN   \n",
      "2  32.233893  IRN  264  1980    NaN  1980-0264-IRN     NaN   \n",
      "3  32.233893  JPN   92  1980    NaN  1980-0092-JPN     NaN   \n",
      "4  32.233893  IDN  317  1980    NaN  1980-0317-IDN     NaN   \n",
      "\n",
      "               Region                     Country  End Day  End Year  \\\n",
      "0       Southern Asia  Iran (Islamic Republic of)     19.0      1980   \n",
      "1       Southern Asia  Iran (Islamic Republic of)     22.0      1980   \n",
      "2       Southern Asia  Iran (Islamic Republic of)     30.0      1980   \n",
      "3        Eastern Asia                       Japan     25.0      1980   \n",
      "4  South-Eastern Asia                   Indonesia      4.0      1980   \n",
      "\n",
      "   Latitude             Location Continent  End Month  Longitude  Start Day  \\\n",
      "0    34.587       Qom-Saveh area      Asia       12.0     50.652       19.0   \n",
      "1    34.503        Qom, Fafresh       Asia       12.0     50.590       22.0   \n",
      "2    35.400               Kishan      Asia       11.0     51.260       30.0   \n",
      "3    35.450  Tokyo, Kanto region      Asia        9.0    139.964       25.0   \n",
      "4       NaN         Ternate Isl.      Asia        9.0        NaN        4.0   \n",
      "\n",
      "  Event Name Local Time  No Injured  Start Year Declaration  No Affected  \\\n",
      "0        NaN      05:46         NaN        1980         NaN          NaN   \n",
      "1        NaN      17:21       100.0        1980         NaN          NaN   \n",
      "2        NaN        NaN         NaN        1980         NaN          NaN   \n",
      "3        NaN      02:54        73.0        1980         NaN          NaN   \n",
      "4   Gamalama        NaN         NaN        1980         NaN      52235.0   \n",
      "\n",
      "   No Homeless  River Basin  Start Month  Total Deaths Dis Mag Scale  \\\n",
      "0          NaN          NaN         12.0          20.0       Richter   \n",
      "1          NaN          NaN         12.0           4.0       Richter   \n",
      "2          NaN          NaN         11.0          26.0       Richter   \n",
      "3          NaN          NaN          9.0           2.0       Richter   \n",
      "4          NaN          NaN          9.0           NaN           NaN   \n",
      "\n",
      "   Dis Mag Value      Disaster Type OFDA Response Associated Dis  \\\n",
      "0            6.0         Earthquake           NaN            NaN   \n",
      "1            5.0         Earthquake           NaN            NaN   \n",
      "2            6.0         Earthquake           NaN            NaN   \n",
      "3            6.0         Earthquake           NaN            NaN   \n",
      "4            NaN  Volcanic activity           NaN            NaN   \n",
      "\n",
      "  Disaster Group Entry Criteria  Total Affected  Associated Dis2  \\\n",
      "0        Natural           Kill             NaN              NaN   \n",
      "1        Natural         Affect           100.0              NaN   \n",
      "2        Natural           Kill             NaN              NaN   \n",
      "3        Natural           OFDA            73.0              NaN   \n",
      "4        Natural         Affect         52235.0              NaN   \n",
      "\n",
      "   Aid Contribution Disaster Subtype Disaster Subgroup  Disaster Subsubtype  \\\n",
      "0               NaN  Ground movement       Geophysical                  NaN   \n",
      "1               NaN  Ground movement       Geophysical                  NaN   \n",
      "2               NaN  Ground movement       Geophysical                  NaN   \n",
      "3               NaN  Ground movement       Geophysical                  NaN   \n",
      "4               NaN         Ash fall       Geophysical                  NaN   \n",
      "\n",
      "   Total Damages ('000 US$)  Insured Damages ('000 US$)  \\\n",
      "0                    5000.0                         NaN   \n",
      "1                    1000.0                         NaN   \n",
      "2                       NaN                         NaN   \n",
      "3                    1000.0                         NaN   \n",
      "4                       NaN                         NaN   \n",
      "\n",
      "   Reconstruction Costs ('000 US$)  \n",
      "0                              NaN  \n",
      "1                              NaN  \n",
      "2                              NaN  \n",
      "3                              NaN  \n",
      "4                              NaN  \n"
     ]
    }
   ],
   "source": [
    "import pandas as pd\n",
    "\n",
    "df = pd.read_csv('~/weather-db-example/disaster.csv')\n",
    "pd.set_option('display.max_rows', None)\n",
    "pd.set_option('display.max_columns', None)\n",
    "print(df.head())"
   ]
  },
  {
   "cell_type": "code",
   "execution_count": null,
   "metadata": {},
   "outputs": [],
   "source": []
  }
 ],
 "metadata": {
  "kernelspec": {
   "display_name": "Python 3",
   "language": "python",
   "name": "python3"
  },
  "language_info": {
   "codemirror_mode": {
    "name": "ipython",
    "version": 3
   },
   "file_extension": ".py",
   "mimetype": "text/x-python",
   "name": "python",
   "nbconvert_exporter": "python",
   "pygments_lexer": "ipython3",
   "version": "3.7.3"
  }
 },
 "nbformat": 4,
 "nbformat_minor": 4
}
