{
 "cells": [
  {
   "cell_type": "code",
   "execution_count": 6,
   "metadata": {},
   "outputs": [
    {
     "name": "stdout",
     "output_type": "stream",
     "text": [
      "                  id                         name     maxdate     mindate  \\\n",
      "0  GHCND:ASN00004081   CORUNNA DOWNS AIRSTRIP, AS  1945-04-30  1944-05-01   \n",
      "1  GHCND:AEM00041217  ABU DHABI INTERNATIONAL, AE  2021-03-10  1983-01-02   \n",
      "2  GHCND:AFM00040938                    HERAT, AF  2021-03-10  1973-01-02   \n",
      "3  GHCND:AG000060390       ALGER DAR EL BEIDA, AG  2021-03-10  1940-01-01   \n",
      "4  GHCND:AGE00147708               TIZI OUZOU, AG  2021-03-10  1879-01-04   \n",
      "\n",
      "   latitude  elevation  longitude  datacoverage elevationUnit  \n",
      "0  -21.4333      244.0   119.7833        0.4164        METERS  \n",
      "1   24.4330       26.8    54.6510        0.9976        METERS  \n",
      "2   34.2100      977.2    62.2280        0.4865        METERS  \n",
      "3   36.7167       24.0     3.2500        0.8953        METERS  \n",
      "4   36.7200      222.0     4.0500        0.4816        METERS  \n"
     ]
    }
   ],
   "source": [
    "import pandas as pd\n",
    "\n",
    "df = pd.read_csv('~/weather-db-example/station.csv')\n",
    "pd.set_option('display.max_rows', None)\n",
    "pd.set_option('display.max_columns', None)\n",
    "print(df.head())"
   ]
  },
  {
   "cell_type": "code",
   "execution_count": null,
   "metadata": {},
   "outputs": [],
   "source": []
  }
 ],
 "metadata": {
  "kernelspec": {
   "display_name": "Python 3",
   "language": "python",
   "name": "python3"
  },
  "language_info": {
   "codemirror_mode": {
    "name": "ipython",
    "version": 3
   },
   "file_extension": ".py",
   "mimetype": "text/x-python",
   "name": "python",
   "nbconvert_exporter": "python",
   "pygments_lexer": "ipython3",
   "version": "3.7.3"
  }
 },
 "nbformat": 4,
 "nbformat_minor": 5
}
